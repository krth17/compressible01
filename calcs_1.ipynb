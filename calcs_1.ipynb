{
 "cells": [
  {
   "cell_type": "markdown",
   "metadata": {},
   "source": [
    "The mass flow rate per unit area in an isentropic flow is given by:\n",
    "\n",
    "$$\n",
    "\\frac{\\dot{m}}{A} = p_0 M \\sqrt{\\frac{\\gamma}{RT_0}} \\left( 1 + \\frac{\\gamma -1}{2} M^2   \\right)^{-\\frac{\\gamma + 1}{2(\\gamma - 1)}}\n",
    "$$"
   ]
  },
  {
   "cell_type": "code",
   "execution_count": 1,
   "metadata": {},
   "outputs": [],
   "source": [
    "import numpy as np\n",
    "import matplotlib.pyplot as plt\n"
   ]
  },
  {
   "cell_type": "code",
   "execution_count": 2,
   "metadata": {},
   "outputs": [],
   "source": [
    "import MyCompressible as mc"
   ]
  },
  {
   "cell_type": "code",
   "execution_count": 3,
   "metadata": {},
   "outputs": [
    {
     "name": "stdout",
     "output_type": "stream",
     "text": [
      "Help on function isenMByA_bar in module MyCompressible:\n",
      "\n",
      "isenMByA_bar(p0, T0, M, g=1.4, R=287.0520809957016)\n",
      "    Returns mass flow rate per unit area, given stagnation conditions. p0 is specified in bar.\n",
      "\n"
     ]
    }
   ],
   "source": [
    "help(mc.isenMByA_bar)"
   ]
  },
  {
   "cell_type": "code",
   "execution_count": 4,
   "metadata": {},
   "outputs": [
    {
     "data": {
      "text/plain": [
       "Text(0, 0.5, 'm-dot (kg/s)')"
      ]
     },
     "execution_count": 4,
     "metadata": {},
     "output_type": "execute_result"
    },
    {
     "data": {
      "image/png": "[encoded data removed]",
      "text/plain": [
       "<Figure size 432x288 with 1 Axes>"
      ]
     },
     "metadata": {
      "needs_background": "light"
     },
     "output_type": "display_data"
    }
   ],
   "source": [
    "D = 300/1000\n",
    "Ma = 0.5\n",
    "T0 = 365\n",
    "\n",
    "area = 3.1415927*D*D/4\n",
    "\n",
    "pRange = np.linspace(1, 5)\n",
    "mRange = np.empty_like(pRange)\n",
    "for idx, x in enumerate(pRange):\n",
    "    mRange[idx] = mc.isenMByA_bar(x, T0, Ma)*area\n",
    "\n",
    "plt.plot(pRange,mRange)\n",
    "plt.xlabel('p0 (bar)') \n",
    "plt.ylabel('m-dot (kg/s)') \n",
    "\n"
   ]
  },
  {
   "cell_type": "code",
   "execution_count": 5,
   "metadata": {},
   "outputs": [
    {
     "name": "stdout",
     "output_type": "stream",
     "text": [
      "Help on function isenMach in module MyCompressible:\n",
      "\n",
      "isenMach(p0, T0, mByA, g=1.4, R=287.0520809957016)\n",
      "    Returns Mach number, given stagnation conditions and mass flow per unit area.\n",
      "\n"
     ]
    }
   ],
   "source": [
    "help(mc.isenMach)\n"
   ]
  },
  {
   "cell_type": "code",
   "execution_count": 6,
   "metadata": {},
   "outputs": [
    {
     "data": {
      "text/plain": [
       "0.5406858514128975"
      ]
     },
     "execution_count": 6,
     "metadata": {},
     "output_type": "execute_result"
    }
   ],
   "source": [
    "mc.isenMach(300000, T0, 500)"
   ]
  },
  {
   "cell_type": "code",
   "execution_count": 9,
   "metadata": {},
   "outputs": [
    {
     "data": {
      "text/plain": [
       "Text(0, 0.5, 'Mach no.')"
      ]
     },
     "execution_count": 9,
     "metadata": {},
     "output_type": "execute_result"
    },
    {
     "data": {
      "image/png": "[encoded data removed]",
      "text/plain": [
       "<Figure size 432x288 with 1 Axes>"
      ]
     },
     "metadata": {
      "needs_background": "light"
     },
     "output_type": "display_data"
    }
   ],
   "source": [
    "diaRange = np.linspace(10, 500)\n",
    "areaRange = 0.25*np.pi*(diaRange/1000)**2\n",
    "machRange = np.empty_like(areaRange)\n",
    "\n",
    "for idx, x in enumerate(areaRange):\n",
    "    machRange[idx] = mc.isenMach(500000, T0, 5/areaRange[idx])\n",
    "\n",
    "plt.plot(diaRange,machRange, '-o')\n",
    "plt.xlabel('Diameter (mm)') \n",
    "plt.ylabel('Mach no.')\n"
   ]
  },
  {
   "cell_type": "code",
   "execution_count": 8,
   "metadata": {},
   "outputs": [
    {
     "data": {
      "text/plain": [
       "3.141592653589793"
      ]
     },
     "execution_count": 8,
     "metadata": {},
     "output_type": "execute_result"
    }
   ],
   "source": [
    "np.pi"
   ]
  },
  {
   "cell_type": "code",
   "execution_count": null,
   "metadata": {},
   "outputs": [],
   "source": []
  }
 ],
 "metadata": {
  "kernelspec": {
   "display_name": "Python 3",
   "language": "python",
   "name": "python3"
  },
  "language_info": {
   "codemirror_mode": {
    "name": "ipython",
    "version": 3
   },
   "file_extension": ".py",
   "mimetype": "text/x-python",
   "name": "python",
   "nbconvert_exporter": "python",
   "pygments_lexer": "ipython3",
   "version": "3.7.4"
  }
 },
 "nbformat": 4,
 "nbformat_minor": 2
}
